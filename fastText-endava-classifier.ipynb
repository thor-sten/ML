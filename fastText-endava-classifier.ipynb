{
 "cells": [
  {
   "cell_type": "code",
   "execution_count": 1,
   "metadata": {},
   "outputs": [],
   "source": [
    "import pandas as pd\n",
    "import fastText\n",
    "from fastText import train_supervised"
   ]
  },
  {
   "cell_type": "code",
   "execution_count": 2,
   "metadata": {},
   "outputs": [],
   "source": [
    "def simplify(string):\n",
    "    \"\"\"Input: String. Output: Simplified sting (lowercase, no special characters, ...).\"\"\"\n",
    "    string = string.lower()\n",
    "    string = re.sub(\"[(\\xa0)(\\n)]\", \" \", string) # replace non-breaking space and newline\n",
    "    string = re.sub(\"\\W+\", \" \", string) # replace any non-alphanumeric character\n",
    "    string = re.sub(\"\\d+\", \"0\", string) # replace all digits with 0\n",
    "    string = re.sub(\" +\", \" \", string) # replace multiple spaces \n",
    "    return string\n",
    "\n",
    "\n",
    "def create_fasttext_data(path, title_file, body_file, category_file):\n",
    "    \"\"\"Reads specified csv files and experts a merged pandas dataframe with fastText label.\"\"\"\n",
    "    \n",
    "    title = pd.read_csv(path + title_file, header=None, names=['id', 'title'], index_col=0)\n",
    "    body = pd.read_csv(path + body_file, header=None, names=['id', 'body'], index_col=0)\n",
    "    category = pd.read_csv(path + category_file, header=None, names=['id', 'category'], index_col=0)\n",
    "\n",
    "    # Create fastText label format\n",
    "    for i in category.index:\n",
    "        category.at[i, 'label'] = '__label__' + str(category.at[i, 'category']) \n",
    "\n",
    "    # Merge dataframes    \n",
    "    text = pd.DataFrame(pd.merge(title, body, on='id'))\n",
    "    data = pd.DataFrame(pd.merge(category, text, on='id'))\n",
    "    \n",
    "    export = data['label'] + ' ' + data['title'] + ' ' + data['body']\n",
    "    \n",
    "    return export"
   ]
  },
  {
   "cell_type": "code",
   "execution_count": 3,
   "metadata": {
    "scrolled": true
   },
   "outputs": [
    {
     "data": {
      "text/plain": [
       "id\n",
       "36838    __label__4 oracle issue issue hi guys tasks li...\n",
       "18212    __label__4 access wednesday hi please order ta...\n",
       "38970    __label__4 unable to approve after being added...\n",
       "30489    __label__4 am interns place assignment thursda...\n",
       "27278    __label__5 to adapter november adapter hi adap...\n",
       "40942    __label__4 approval flow issue sent request fo...\n",
       "29699    __label__4 new starter wednesday pm date hello...\n",
       "39588    __label__4 not generating service now hello co...\n",
       "7653     __label__4 wants to access status report wants...\n",
       "42550    __label__4 error sent wednesday re error check...\n",
       "44856    __label__4 can change password on sent monday ...\n",
       "40510    __label__6 urgent server is down sent friday j...\n",
       "27850    __label__4 add user friday october pm add user...\n",
       "1090     __label__4 list of servers hello these listed ...\n",
       "23663    __label__4 mick small leaver should not have f...\n",
       "34563    __label__4 access to july please member gain t...\n",
       "22608    __label__4 wants to access sales wednesday pm ...\n",
       "461      __label__4 missing time cards notification ple...\n",
       "45782    __label__11 critical security update sent tues...\n",
       "46588    __label__4 holiday booking sent tuesday novemb...\n",
       "10509    __label__4 known pipeline pas thursday pm know...\n",
       "26479    __label__4 close and archive site for thursday...\n",
       "14528    __label__4 direct reports missing time notific...\n",
       "24075    __label__5 cable management investigation re a...\n",
       "6882     __label__4 security measures reboot and potent...\n",
       "1192     __label__5 new battery for hp lap top battery ...\n",
       "28559    __label__5 network cable replacement tuesday o...\n",
       "40613    __label__5 outlook unable to send since yester...\n",
       "12043    __label__4 job titles updates wednesday july p...\n",
       "48231    __label__4 issue with booking annual leave sen...\n",
       "                               ...                        \n",
       "27927    __label__4 access to wednesday october pm hi p...\n",
       "43048    __label__6 new device network error sent tuesd...\n",
       "16580    __label__4 locked account outlook keeps asking...\n",
       "33198                                                  NaN\n",
       "30325    __label__4 please automatically add the colomb...\n",
       "7600     __label__4 wants to access wants hi got link l...\n",
       "4718     __label__5 keyboard request keyboard hello key...\n",
       "1447     __label__4 us hr hello possible currently rece...\n",
       "32744    __label__4 amend pm on wednesday pm hi please ...\n",
       "43923    __label__5 second monitor display not working ...\n",
       "27084    __label__4 access to for wednesday november pm...\n",
       "12198    __label__5 po tuesday july re testing devices ...\n",
       "28642    __label__4 access needed october needed neithe...\n",
       "42395    __label__4 problems on after password change s...\n",
       "34866    __label__4 oracle timecard timecard hello plea...\n",
       "7822     __label__5 new purchase po purchase po dear pu...\n",
       "10088    __label__4 remove from sonar thursday member h...\n",
       "14556    __label__4 access to confluence space practice...\n",
       "28507    __label__4 password reset for com tuesday octo...\n",
       "35158    __label__6 unable to access access hi please c...\n",
       "20725    __label__4 leaver february thursday february l...\n",
       "4400     __label__4 access dear wanted ask allow certai...\n",
       "41353    __label__4 issues while changing password sent...\n",
       "19579    __label__6 restart tuesday march re hello per ...\n",
       "11644                                                  NaN\n",
       "29594    __label__5 key friday key hello guys help kind...\n",
       "47570    __label__11 ground floor left door open sent o...\n",
       "26462    __label__5 new monitor thursday november pm mo...\n",
       "47940    __label__6 warning disk channel degraded origi...\n",
       "9182     __label__4 access access thursday hello folder...\n",
       "Length: 38832, dtype: object"
      ]
     },
     "execution_count": 3,
     "metadata": {},
     "output_type": "execute_result"
    }
   ],
   "source": [
    "# Read data from csv and create merged pandas datraframe\n",
    "\n",
    "path = %pwd # \"C:\\\\Git_repo\\\\ai-for-it-support-management\\\\aicore\\\\aicore\"\n",
    "train_path = path + \"\\\\datasets\\\\train\\\\\"\n",
    "validation_path = path + \"\\\\datasets\\\\dev\\\\\"\n",
    "test_path = path + \"\\\\datasets\\\\test\\\\\"\n",
    "\n",
    "train_files = {'title_file': 'train_data_title_endava.csv', 'body_file': 'train_data_body_endava.csv', \n",
    "             'category_file': 'train_data_category_endava.csv'}\n",
    "\n",
    "validation_files = {'title_file': 'dev_data_title_endava.csv', 'body_file': 'dev_data_body_endava.csv', \n",
    "             'category_file': 'dev_data_category_endava.csv'}\n",
    "\n",
    "test_files = {'title_file': 'test_data_title_endava.csv', 'body_file': 'test_data_body_endava.csv', \n",
    "             'category_file': 'test_data_category_endava.csv'}\n",
    "\n",
    "train_data = create_fasttext_data(train_path, **train_files)\n",
    "validation_data = create_fasttext_data(validation_path, **validation_files)\n",
    "test_data = create_fasttext_data(test_path, **test_files)\n",
    "\n",
    "train_data"
   ]
  },
  {
   "cell_type": "code",
   "execution_count": 4,
   "metadata": {},
   "outputs": [],
   "source": [
    "# Export to csv\n",
    "train_file = \"fasttext_train.csv\"\n",
    "validation_file = \"fasttext_validation.csv\"\n",
    "test_file = \"fasttext_test.csv\"\n",
    "\n",
    "train_data.to_csv(train_path + train_file, index=False)\n",
    "validation_data.to_csv(validation_path + validation_file, index=False)\n",
    "test_data.to_csv(test_path + test_file, index=False)"
   ]
  },
  {
   "cell_type": "code",
   "execution_count": 5,
   "metadata": {},
   "outputs": [],
   "source": [
    "# Build and test model using fastText.\n",
    "# Options: https://fasttext.cc/docs/en/options.html\n",
    "classifier = train_supervised(input=train_path + train_file, epoch=50, lr=0.5, wordNgrams=5, dim=100)"
   ]
  },
  {
   "cell_type": "code",
   "execution_count": 6,
   "metadata": {},
   "outputs": [
    {
     "name": "stdout",
     "output_type": "stream",
     "text": [
      "Test samples \t Precision \t Recall \t F1 \n",
      " 4779 0.8704749947687801 0.8704749947687801 0.8704749947687801\n"
     ]
    }
   ],
   "source": [
    "# Validate\n",
    "result = classifier.test(validation_path + validation_file)\n",
    "\n",
    "F1 = 2 * result[1] * result[2] / (result[1] + result[2])\n",
    "print(\"Test samples \\t Precision \\t Recall \\t F1 \\n\", result[0], result[1], result[2], F1)"
   ]
  },
  {
   "cell_type": "code",
   "execution_count": 7,
   "metadata": {},
   "outputs": [],
   "source": [
    "# Save or load model\n",
    "classifier.save_model(path + \"fasttext_model.bin\")\n",
    "# classifier = fastText.load_model(path + \"fasttext_model.bin\")"
   ]
  },
  {
   "cell_type": "code",
   "execution_count": 8,
   "metadata": {},
   "outputs": [
    {
     "name": "stdout",
     "output_type": "stream",
     "text": [
      "Test samples \t Precision \t Recall \t F1 \n",
      " 4781 0.8736665969462456 0.8736665969462456 0.8736665969462456\n"
     ]
    }
   ],
   "source": [
    "# Test model\n",
    "result = classifier.test(test_path + test_file)\n",
    "\n",
    "F1 = 2 * result[1] * result[2] / (result[1] + result[2])\n",
    "print(\"Test samples \\t Precision \\t Recall \\t F1 \\n\", result[0], result[1], result[2], F1)"
   ]
  }
 ],
 "metadata": {
  "kernelspec": {
   "display_name": "Python 3",
   "language": "python",
   "name": "python3"
  },
  "language_info": {
   "codemirror_mode": {
    "name": "ipython",
    "version": 3
   },
   "file_extension": ".py",
   "mimetype": "text/x-python",
   "name": "python",
   "nbconvert_exporter": "python",
   "pygments_lexer": "ipython3",
   "version": "3.6.2"
  }
 },
 "nbformat": 4,
 "nbformat_minor": 2
}
